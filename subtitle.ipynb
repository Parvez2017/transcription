{
 "cells": [
  {
   "cell_type": "code",
   "execution_count": 6,
   "metadata": {},
   "outputs": [
    {
     "name": "stdout",
     "output_type": "stream",
     "text": [
      "['/media/parvej/ALL/parvez/tras/trump40.wav', '/media/parvej/ALL/parvez/tras/trump41.wav', '/media/parvej/ALL/parvez/tras/trump42.wav', '/media/parvej/ALL/parvez/tras/trump43.wav', '/media/parvej/ALL/parvez/tras/trump44.wav', '/media/parvej/ALL/parvez/tras/trump45.wav', '/media/parvej/ALL/parvez/tras/trump46.wav', '/media/parvej/ALL/parvez/tras/trump47.wav', '/media/parvej/ALL/parvez/tras/trump48.wav', '/media/parvej/ALL/parvez/tras/trump49.wav', '/media/parvej/ALL/parvez/tras/trump51.wav', '/media/parvej/ALL/parvez/tras/trump52.wav', '/media/parvej/ALL/parvez/tras/trump53.wav', '/media/parvej/ALL/parvez/tras/trump54.wav', '/media/parvej/ALL/parvez/tras/trump55.wav', '/media/parvej/ALL/parvez/tras/trump56.wav', '/media/parvej/ALL/parvez/tras/trump57.wav', '/media/parvej/ALL/parvez/tras/trump58.wav', '/media/parvej/ALL/parvez/tras/trump59.wav', '/media/parvej/ALL/parvez/tras/trump60.wav', '/media/parvej/ALL/parvez/tras/trump61.wav', '/media/parvej/ALL/parvez/tras/trump62.wav', '/media/parvej/ALL/parvez/tras/trump63.wav', '/media/parvej/ALL/parvez/tras/trump64.wav', '/media/parvej/ALL/parvez/tras/trump65.wav', '/media/parvej/ALL/parvez/tras/trump66.wav', '/media/parvej/ALL/parvez/tras/trump67.wav', '/media/parvej/ALL/parvez/tras/trump68.wav']\n",
      "transcriptions failed\n",
      "transcription done!...\n",
      "transcriptions failed\n",
      "transcription done!...\n",
      "transcriptions failed\n",
      "transcription done!...\n",
      "transcriptions failed\n",
      "transcription done!...\n",
      "transcriptions failed\n",
      "transcription done!...\n",
      "transcriptions failed\n",
      "transcription done!...\n",
      "transcriptions failed\n",
      "transcription done!...\n",
      "transcriptions failed\n",
      "transcription done!...\n",
      "transcriptions failed\n",
      "transcription done!...\n",
      "transcriptions failed\n",
      "transcription done!...\n",
      "transcriptions failed\n",
      "transcription done!...\n",
      "transcriptions failed\n",
      "transcription done!...\n",
      "transcriptions failed\n",
      "transcription done!...\n",
      "transcriptions failed\n",
      "transcription done!...\n",
      "transcriptions failed\n",
      "transcription done!...\n",
      "transcriptions failed\n",
      "transcription done!...\n",
      "transcriptions failed\n",
      "transcription done!...\n",
      "transcriptions failed\n",
      "transcription done!...\n",
      "transcriptions failed\n",
      "transcription done!...\n",
      "transcriptions failed\n",
      "transcription done!...\n",
      "transcriptions failed\n",
      "transcription done!...\n",
      "transcriptions failed\n",
      "transcription done!...\n",
      "transcriptions failed\n",
      "transcription done!...\n",
      "transcriptions failed\n",
      "transcription done!...\n",
      "transcriptions failed\n",
      "transcription done!...\n",
      "transcriptions failed\n",
      "transcription done!...\n",
      "transcriptions failed\n",
      "transcription done!...\n",
      "transcriptions failed\n",
      "transcription done!...\n"
     ]
    }
   ],
   "source": [
    "from  pysubtitle import Subtile\n",
    "from pys3 import Awss3\n",
    "from pytranscrib import Transcib\n",
    "import os \n",
    "import glob \n",
    "import re \n",
    "\n",
    "\n",
    "path = '/media/parvej/ALL/parvez/trump_wavs'\n",
    "files = glob.glob('/media/parvej/ALL/parvez/tras/*.wav')\n",
    "files = sorted(files, key=lambda x:float(re.findall(\"(\\d+)\",x)[0]))\n",
    "print(files)\n",
    "\n",
    "for file in files:\n",
    "    basename = os.path.basename(file).split('.')[0]\n",
    "    sub = Subtile(f'{basename}.json')\n",
    "    sub.transcribe(f'{basename}.wav')\n",
    "    print('transcription done!...')"
   ]
  },
  {
   "cell_type": "code",
   "execution_count": 9,
   "metadata": {},
   "outputs": [
    {
     "name": "stdout",
     "output_type": "stream",
     "text": [
      "['/media/parvej/ALL/parvez/trump_finetune/trump_best0.txt', '/media/parvej/ALL/parvez/trump_finetune/trump_best1.txt', '/media/parvej/ALL/parvez/trump_finetune/trump_best2.txt', '/media/parvej/ALL/parvez/trump_finetune/trump_best3.txt', '/media/parvej/ALL/parvez/trump_finetune/trump_best4.txt', '/media/parvej/ALL/parvez/trump_finetune/trump_best5.txt', '/media/parvej/ALL/parvez/trump_finetune/trump_best6.txt', '/media/parvej/ALL/parvez/trump_finetune/trump_best7.txt', '/media/parvej/ALL/parvez/trump_finetune/trump_best8.txt', '/media/parvej/ALL/parvez/trump_finetune/trump_best9.txt', '/media/parvej/ALL/parvez/trump_finetune/trump_best10.txt', '/media/parvej/ALL/parvez/trump_finetune/trump_best11.txt', '/media/parvej/ALL/parvez/trump_finetune/trump_best12.txt', '/media/parvej/ALL/parvez/trump_finetune/trump_best13.txt', '/media/parvej/ALL/parvez/trump_finetune/trump_best14.txt', '/media/parvej/ALL/parvez/trump_finetune/trump_best15.txt']\n"
     ]
    }
   ],
   "source": [
    "import os \n",
    "import glob \n",
    "import re \n",
    "import pandas as pd \n",
    "\n",
    "path = '/media/parvej/ALL/wavs'\n",
    "files = glob.glob('/media/parvej/ALL/parvez/trump_finetune/*.txt')\n",
    "files = sorted(files, key=lambda x:float(re.findall(\"(\\d+)\",x)[0]))\n",
    "\n",
    "print(files)\n",
    "ls = []\n",
    "\n",
    "for i, file in enumerate(files):\n",
    "        \n",
    "    with open(file, 'r') as f:\n",
    "        l = [line.strip('\\n') for line in f.readlines()]\n",
    "        ls += l\n",
    "\n",
    "# df = pd.DataFrame(ls, index=None)\n",
    "# df.to_csv('/media/parvej/ALL/parvez/tras/metadata.csv', header=False, index=None)\n",
    "\n",
    "with open('/media/parvej/ALL/parvez/metadata_fintune.txt', 'w') as f:\n",
    "    f.write('\\n'.join(ls))"
   ]
  },
  {
   "cell_type": "code",
   "execution_count": 9,
   "metadata": {},
   "outputs": [
    {
     "data": {
      "text/plain": [
       "'/home/parvej/work/voice-cloning/deepvoice3_pytorch/data/ljspeech/train.txt'"
      ]
     },
     "execution_count": 9,
     "metadata": {},
     "output_type": "execute_result"
    }
   ],
   "source": [
    "import shutil\n",
    "import os\n",
    "    \n",
    "\n",
    "source_dir = '/media/parvej/ALL/parvez'\n",
    "target_dir = '/home/parvej/work/voice-cloning/deepvoice3_pytorch/data/ljspeech'\n",
    "\n",
    "shutil.copy(os.path.join(source_dir, 'train.txt'), target_dir)\n",
    "# file_names = os.listdir(source_dir)\n",
    "    \n",
    "# for file_name in file_names:\n",
    "#     #print(file_name)\n",
    "#     shutil.move(os.path.join(source_dir, file_name), target_dir)\n",
    "#     print(f'{file_name} moved to {target_dir}')"
   ]
  },
  {
   "cell_type": "code",
   "execution_count": 14,
   "metadata": {},
   "outputs": [
    {
     "name": "stdout",
     "output_type": "stream",
     "text": [
      "[]\n"
     ]
    }
   ],
   "source": [
    "# with open('/home/parvej/work/voice-cloning/deepvoice3_pytorch/data/ljspeech/train.txt', 'r') as f1:\n",
    "#     data = f1.read()\n",
    "    \n",
    "# with open('/media/parvej/ALL/parvez/training/train.txt', 'r') as f2:\n",
    "#     dat = f2.read()\n",
    "\n",
    "# data += dat\n",
    "\n",
    "with open('/media/parvej/ALL/parvez/train.txt', 'r') as f:\n",
    "    data = [line.strip('\\n') for line in f.readlines()]\n",
    "    \n",
    "print(data)\n",
    "    "
   ]
  },
  {
   "cell_type": "code",
   "execution_count": 8,
   "metadata": {},
   "outputs": [
    {
     "name": "stdout",
     "output_type": "stream",
     "text": [
      "['/home/parvej/work/voice-cloning/deepvoice3_pytorch/data/ljspeech/train.txt']\n"
     ]
    }
   ],
   "source": [
    "import glob \n",
    "\n",
    "file = glob.glob('/home/parvej/work/voice-cloning/deepvoice3_pytorch/data/ljspeech/*.txt')\n",
    "print(file)\n",
    "\n",
    "for fi in file:\n",
    "    shutil.move(fi, '/home/parvej/work/voice-cloning/deepvoice3_pytorch')"
   ]
  }
 ],
 "metadata": {
  "kernelspec": {
   "display_name": "Python 3",
   "language": "python",
   "name": "python3"
  },
  "language_info": {
   "codemirror_mode": {
    "name": "ipython",
    "version": 3
   },
   "file_extension": ".py",
   "mimetype": "text/x-python",
   "name": "python",
   "nbconvert_exporter": "python",
   "pygments_lexer": "ipython3",
   "version": "3.8.5"
  }
 },
 "nbformat": 4,
 "nbformat_minor": 4
}
