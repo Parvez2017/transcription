{
 "cells": [
  {
   "cell_type": "code",
   "execution_count": 4,
   "metadata": {},
   "outputs": [
    {
     "name": "stdout",
     "output_type": "stream",
     "text": [
      "['/media/parvej/ALL/parvez/tras/trump8.wav', '/media/parvej/ALL/parvez/tras/trump9.wav', '/media/parvej/ALL/parvez/tras/trump10.wav', '/media/parvej/ALL/parvez/tras/trump11.wav', '/media/parvej/ALL/parvez/tras/trump12.wav', '/media/parvej/ALL/parvez/tras/trump13.wav', '/media/parvej/ALL/parvez/tras/trump14.wav', '/media/parvej/ALL/parvez/tras/trump15.wav', '/media/parvej/ALL/parvez/tras/trump16.wav', '/media/parvej/ALL/parvez/tras/trump17.wav', '/media/parvej/ALL/parvez/tras/trump18.wav', '/media/parvej/ALL/parvez/tras/trump19.wav', '/media/parvej/ALL/parvez/tras/trump20.wav', '/media/parvej/ALL/parvez/tras/trump21.wav', '/media/parvej/ALL/parvez/tras/trump22.wav']\n",
      "transcriptions failed\n",
      "transcription done!...\n",
      "transcriptions failed\n",
      "transcription done!...\n",
      "transcriptions failed\n",
      "transcription done!...\n",
      "transcriptions failed\n",
      "transcription done!...\n",
      "transcriptions failed\n",
      "transcription done!...\n",
      "transcriptions failed\n",
      "transcription done!...\n",
      "transcriptions failed\n",
      "transcription done!...\n",
      "transcriptions failed\n",
      "transcription done!...\n",
      "transcriptions failed\n",
      "transcription done!...\n",
      "transcriptions failed\n",
      "transcription done!...\n",
      "transcriptions failed\n",
      "transcription done!...\n",
      "transcriptions failed\n",
      "transcription done!...\n",
      "transcriptions failed\n",
      "transcription done!...\n",
      "transcriptions failed\n",
      "transcription done!...\n",
      "transcriptions failed\n",
      "transcription done!...\n"
     ]
    }
   ],
   "source": [
    "from  pysubtitle import Subtile\n",
    "from pys3 import Awss3\n",
    "from pytranscrib import Transcib\n",
    "import os \n",
    "import glob \n",
    "import re \n",
    "\n",
    "\n",
    "path = '/media/parvej/ALL/parvez/trump_wavs'\n",
    "files = glob.glob('/media/parvej/ALL/parvez/tras/*.wav')\n",
    "files = sorted(files, key=lambda x:float(re.findall(\"(\\d+)\",x)[0]))\n",
    "print(files)\n",
    "\n",
    "for file in files:\n",
    "    basename = os.path.basename(file).split('.')[0]\n",
    "    sub = Subtile(f'{basename}.json')\n",
    "    sub.transcribe(f'{basename}.wav')\n",
    "    print('transcription done!...')"
   ]
  }
 ],
 "metadata": {
  "kernelspec": {
   "display_name": "Python 3",
   "language": "python",
   "name": "python3"
  },
  "language_info": {
   "codemirror_mode": {
    "name": "ipython",
    "version": 3
   },
   "file_extension": ".py",
   "mimetype": "text/x-python",
   "name": "python",
   "nbconvert_exporter": "python",
   "pygments_lexer": "ipython3",
   "version": "3.8.5"
  }
 },
 "nbformat": 4,
 "nbformat_minor": 4
}
